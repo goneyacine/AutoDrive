{
 "cells": [
  {
   "cell_type": "code",
   "execution_count": 1,
   "metadata": {},
   "outputs": [],
   "source": [
    "import tensorflow as tf\n",
    "import numpy as np\n",
    "import cv2\n",
    "import ast\n",
    "import os\n",
    "import cnn_model "
   ]
  },
  {
   "cell_type": "code",
   "execution_count": 2,
   "metadata": {},
   "outputs": [],
   "source": [
    "with open('../data/player_inputs.txt', 'r') as file:\n",
    "    player_inputs = file.read()\n",
    "player_inputs =  ast.literal_eval(player_inputs)\n",
    "player_inputs = np.array(player_inputs)\n"
   ]
  },
  {
   "cell_type": "code",
   "execution_count": 3,
   "metadata": {},
   "outputs": [],
   "source": [
    "image_files = [f for f in os.listdir('../data/frames') if os.path.isfile(os.path.join('../data/frames', f))]\n",
    "\n",
    "# Initialize an empty list to hold the images\n",
    "images = []\n",
    "\n",
    "# Loop through all the files and load each image\n",
    "for image_file in image_files:\n",
    "    # Full path to the image\n",
    "    image_path = os.path.join('../data/frames', image_file)\n",
    "    \n",
    "    # Load the image using OpenCV\n",
    "    image = cv2.imread(image_path)\n",
    "    \n",
    "    # Check if the image was successfully loaded\n",
    "    if image is not None:\n",
    "        images.append(image)\n",
    "    else:\n",
    "        print(f\"Warning: Could not load image {image_path}\")\n",
    "\n",
    "# Convert the list of images to a NumPy array\n",
    "frames = np.array(images)"
   ]
  },
  {
   "cell_type": "code",
   "execution_count": 4,
   "metadata": {},
   "outputs": [],
   "source": [
    "train_ds = tf.dataset = tf.data.Dataset.from_tensor_slices((frames, player_inputs))"
   ]
  },
  {
   "cell_type": "code",
   "execution_count": 5,
   "metadata": {},
   "outputs": [],
   "source": [
    "train_ds = train_ds.shuffle(buffer_size=len(frames)).batch(64).prefetch(tf.data.AUTOTUNE)"
   ]
  },
  {
   "cell_type": "code",
   "execution_count": 6,
   "metadata": {},
   "outputs": [],
   "source": [
    "model_ = cnn_model.model()\n",
    "model_.setup()\n",
    "model_.compile()\n"
   ]
  },
  {
   "cell_type": "code",
   "execution_count": 7,
   "metadata": {},
   "outputs": [
    {
     "name": "stdout",
     "output_type": "stream",
     "text": [
      "Epoch 1/5\n",
      "\u001b[1m205/205\u001b[0m \u001b[32m━━━━━━━━━━━━━━━━━━━━\u001b[0m\u001b[37m\u001b[0m \u001b[1m51s\u001b[0m 202ms/step - accuracy: 0.7130 - loss: 0.4564 - mse: 0.4564\n",
      "Epoch 2/5\n",
      "\u001b[1m205/205\u001b[0m \u001b[32m━━━━━━━━━━━━━━━━━━━━\u001b[0m\u001b[37m\u001b[0m \u001b[1m42s\u001b[0m 206ms/step - accuracy: 0.8128 - loss: 0.1040 - mse: 0.1040\n",
      "Epoch 3/5\n",
      "\u001b[1m205/205\u001b[0m \u001b[32m━━━━━━━━━━━━━━━━━━━━\u001b[0m\u001b[37m\u001b[0m \u001b[1m31s\u001b[0m 153ms/step - accuracy: 0.8224 - loss: 0.0788 - mse: 0.0788\n",
      "Epoch 4/5\n",
      "\u001b[1m205/205\u001b[0m \u001b[32m━━━━━━━━━━━━━━━━━━━━\u001b[0m\u001b[37m\u001b[0m \u001b[1m31s\u001b[0m 153ms/step - accuracy: 0.8266 - loss: 0.0588 - mse: 0.0588\n",
      "Epoch 5/5\n",
      "\u001b[1m205/205\u001b[0m \u001b[32m━━━━━━━━━━━━━━━━━━━━\u001b[0m\u001b[37m\u001b[0m \u001b[1m31s\u001b[0m 153ms/step - accuracy: 0.8126 - loss: 0.0491 - mse: 0.0491\n",
      "saving model...\n",
      "model saved.\n"
     ]
    }
   ],
   "source": [
    "model_.train(train_ds=train_ds,epochs_=5)"
   ]
  },
  {
   "cell_type": "code",
   "execution_count": 8,
   "metadata": {},
   "outputs": [
    {
     "data": {
      "text/plain": [
       "array([[ 0.2016229 , -0.08691665,  0.10322531,  0.00320643]],\n",
       "      dtype=float32)"
      ]
     },
     "execution_count": 8,
     "metadata": {},
     "output_type": "execute_result"
    }
   ],
   "source": [
    "model_.model(frames[1100][None,...]).numpy()"
   ]
  }
 ],
 "metadata": {
  "kernelspec": {
   "display_name": ".venv",
   "language": "python",
   "name": "python3"
  },
  "language_info": {
   "codemirror_mode": {
    "name": "ipython",
    "version": 3
   },
   "file_extension": ".py",
   "mimetype": "text/x-python",
   "name": "python",
   "nbconvert_exporter": "python",
   "pygments_lexer": "ipython3",
   "version": "3.11.4"
  }
 },
 "nbformat": 4,
 "nbformat_minor": 2
}
